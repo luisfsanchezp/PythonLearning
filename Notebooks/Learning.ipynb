{
 "cells": [
  {
   "cell_type": "markdown",
   "metadata": {},
   "source": [
    "<h1>Entrenamiento Jupyter Notebooks</h1>\n",
    "\n",
    "En el ejercicio presente usaremos una base de datos correspondiente a la 'rueda de la vida' de la empresa 'Coquito Amarillo'; en la cual se almacenan los datos capturades de un formulario para medir la satisfacción general de los empleados de la empresa en sus diferentes dimensiones de vida.\n",
    "\n",
    "A partir de dichos datos realizaremos dos procesos: \n",
    "* Leer los datos para observarlos en pantalla, y presentar algunos elementos de estadística descriptiva a partir de ellos.\n",
    "* Preparar algunos ejericios de analisis de datos y graficar sus resultados."
   ]
  },
  {
   "cell_type": "markdown",
   "metadata": {},
   "source": [
    "En este cuaderno vamos a realizar algunos pasos generales para comprender el uso de Jupyter Notebooks.\n",
    "en esencia:\n",
    "<ul>\n",
    "    <l>Conectar a la base de datos local.</l>\n",
    "    <l>Leer algunos datos existentes.</l>\n",
    "    <l>Llenar algunas variables con esos datos.</l>\n",
    "    <l>Procesar y construir algunos objetos graficos para facilitar el análisis de los datos extraidos.</l>\n",
    "</ul>\n",
    "\n"
   ]
  },
  {
   "cell_type": "code",
   "execution_count": 2,
   "metadata": {},
   "outputs": [],
   "source": [
    "from datetime import datetime\n",
    "\n",
    "import mysql.connector\n",
    "import pandas as pd\n",
    "import matplotlib.pyplot as plt\n",
    "import numpy as np\n",
    "import seaborn as sns\n",
    "from sqlalchemy import  text\n",
    "\n",
    "# Configurar estilo de gráficos\n",
    "sns.set(style=\"whitegrid\")\n"
   ]
  },
  {
   "cell_type": "markdown",
   "metadata": {},
   "source": [
    "Iiciamos con un pequeño mensaje de bienvenida:"
   ]
  },
  {
   "cell_type": "code",
   "execution_count": 3,
   "metadata": {},
   "outputs": [
    {
     "name": "stdout",
     "output_type": "stream",
     "text": [
      "Hola, Bienvenido al entrenamiento de Jupyter Notebooks.\n"
     ]
    }
   ],
   "source": [
    "print (\"Hola, Bienvenido al entrenamiento de Jupyter Notebooks.\")"
   ]
  },
  {
   "cell_type": "markdown",
   "metadata": {},
   "source": [
    " Aqui vamos a crear algunas funciones para conectarnos a la base de datos local y extraer información de las tablas existentes.\n"
   ]
  },
  {
   "cell_type": "code",
   "execution_count": 4,
   "metadata": {},
   "outputs": [],
   "source": [
    "   \n",
    "# Conexión a la base de datos MySQL\n",
    "def obtener_conexion():\n",
    "    return mysql.connector.connect(\n",
    "        host=\"localhost\",\n",
    "        user=\"root\",  # Usuario de la base de datos\n",
    "        password=\"\",  # Contraseña de la base de datos\n",
    "        database=\"pruebas\"  # Nombre de la base de datos\n",
    "    )\n",
    "\n",
    "# Función para obtener los datos de las personas\n",
    "def obtener_personas():\n",
    "    conn = obtener_conexion()\n",
    "    query = \"SELECT * FROM personas\"\n",
    "    df_personas = pd.read_sql(query, conn)\n",
    "    conn.close()\n",
    "    return df_personas\n",
    "\n",
    "# Función para obtener las respuestas de la encuesta\n",
    "def obtener_encuestas():\n",
    "    # A:conn = obtener_conexion()\n",
    "    # A:query = \"SELECT * FROM encuesta\"\n",
    "    from sqlalchemy import create_engine\n",
    "    connection_string =\"mysql+mysqlconnector://root:@localhost:3306/pruebas\"\n",
    "    engine = create_engine(connection_string, echo=True)\n",
    "    with engine.connect() as connection:\n",
    "      # B: result = connection.execute(text(\"SELECT * FROM encuestas WHERE id_persona = :idp\"), dict(idp=\"9998080\"))\n",
    "      # B:  for row in result.mappings():\n",
    "      # B:     print(\"fecha:\" , row[\"fecha\"])\n",
    "            \n",
    "    # Asegurarnos de que las columnas con fechas sean convertidas automáticamente a datetime\n",
    "      df_encuestas =  connection.execute(text(\"SELECT * FROM encuestas\"))\n",
    "    # A: pd.read_sql(query, conn, parse_dates=['fecha'])  # Aquí le indicamos a pandas que convierta 'fecha' en datetime\n",
    "    #A: conn.close()\n",
    "    return df_encuestas"
   ]
  },
  {
   "cell_type": "markdown",
   "metadata": {},
   "source": [
    "Una vez que hemos extraido los datos, vamos a hacer una visualización de ellos.\n"
   ]
  },
  {
   "cell_type": "code",
   "execution_count": 5,
   "metadata": {},
   "outputs": [],
   "source": [
    "# Función para realizar análisis descriptivo básico de los datos de personas\n",
    "def analisis_personas(df):\n",
    "    descripcion = df.describe(include=\"all\")\n",
    "    print(\"Descripción de los datos de personas:\")\n",
    "    print(descripcion)\n",
    "    \n",
    "# Función para realizar análisis de las respuestas de la encuesta\n",
    "def analisis_encuesta(df_encuestas):\n",
    "    print(\"\\nAnálisis de las respuestas de la encuesta:\")\n",
    "    # Calcular estadísticas básicas\n",
    "    encuesta_promedio = df_encuestas.mean(axis=1)\n",
    "    print(f\"Promedio de respuestas por encuesta:\\n{encuesta_promedio.head()}\")\n",
    "    \n",
    "    # Descripción de las respuestas\n",
    "    encuesta_descripcion = df_encuestas.describe()\n",
    "    print(f\"\\nDescripción de las respuestas de la encuesta:\\n{encuesta_descripcion}\")"
   ]
  },
  {
   "cell_type": "markdown",
   "metadata": {},
   "source": [
    "Así, podemos observar si los datos están adecuadamente almacenados.\n",
    "Pasamos entonces a graficarlos:\n"
   ]
  },
  {
   "cell_type": "code",
   "execution_count": 6,
   "metadata": {},
   "outputs": [],
   "source": [
    "# Función para graficar la satisfacción de los empleados con un gráfico radial (spider plot)\n",
    "def graficar_satisfaccion(df_encuestas, id_persona):\n",
    "    # Filtrar las respuestas de la persona\n",
    "    respuestas = df_encuestas[df_encuestas['id_persona'] == id_persona].iloc[:, 2:].values.flatten()\n",
    "\n",
    "    # Etiquetas de las dimensiones de la rueda de la vida (preguntas)\n",
    "    dimensiones = ['Emocional', 'Físico', 'Relacional', 'Espiritual', 'Financiero', 'Familiar', 'Profesional', 'Social', 'Crecimiento', 'Diversión']\n",
    "\n",
    "    # Configuración del gráfico radial\n",
    "    num_vars = len(dimensiones)\n",
    "\n",
    "    # Ángulos para las dimensiones\n",
    "    angles = np.linspace(0, 2 * np.pi, num_vars, endpoint=False).tolist()\n",
    "\n",
    "    # Cerramos el gráfico\n",
    "    respuestas = np.concatenate((respuestas, [respuestas[0]]))\n",
    "    angles += angles[:1]\n",
    "\n",
    "    fig, ax = plt.subplots(figsize=(6, 6), subplot_kw=dict(polar=True))\n",
    "    ax.fill(angles, respuestas, color='b', alpha=0.25)\n",
    "    ax.plot(angles, respuestas, color='b', linewidth=2)\n",
    "\n",
    "    ax.set_yticklabels([])\n",
    "    ax.set_xticks(angles[:-1])\n",
    "    ax.set_xticklabels(dimensiones, fontsize=10, fontweight='bold')\n",
    "\n",
    "    plt.title(f\"Satisfacción de la persona {id_persona}\", size=14)\n",
    "    plt.show()\n",
    "\n"
   ]
  },
  {
   "cell_type": "code",
   "execution_count": null,
   "metadata": {},
   "outputs": [],
   "source": [
    "dfp= obtener_personas()\n",
    "analisis_personas(dfp)\n",
    "dfe=obtener_encuestas()\n",
    "analisis_encuestas(dfe)\n",
    "graficar_satisfaccion(dfe,998080)\n"
   ]
  }
 ],
 "metadata": {
  "kernelspec": {
   "display_name": "base",
   "language": "python",
   "name": "python3"
  },
  "language_info": {
   "codemirror_mode": {
    "name": "ipython",
    "version": 3
   },
   "file_extension": ".py",
   "mimetype": "text/x-python",
   "name": "python",
   "nbconvert_exporter": "python",
   "pygments_lexer": "ipython3",
   "version": "3.8.3"
  }
 },
 "nbformat": 4,
 "nbformat_minor": 4
}
